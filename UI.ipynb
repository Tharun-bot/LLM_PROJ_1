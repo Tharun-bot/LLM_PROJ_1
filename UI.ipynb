{
 "cells": [
  {
   "cell_type": "code",
   "execution_count": null,
   "id": "a4a97485-1a2b-4682-bf70-9150391c6b87",
   "metadata": {},
   "outputs": [],
   "source": [
    "%run ADV_RAG_V2.ipynb"
   ]
  },
  {
   "cell_type": "code",
   "execution_count": null,
   "id": "a59e98a7-7732-4638-b3da-183ee6092ae9",
   "metadata": {},
   "outputs": [],
   "source": [
    "import gradio as gr"
   ]
  },
  {
   "cell_type": "code",
   "execution_count": null,
   "id": "b9ac8e59-2be1-4f78-9950-f6061451e2fc",
   "metadata": {},
   "outputs": [],
   "source": [
    "gr.ChatInterface(answer_generator).launch(share=True)"
   ]
  },
  {
   "cell_type": "code",
   "execution_count": null,
   "id": "19490b40-d4ab-4bdd-8e38-820348230d28",
   "metadata": {},
   "outputs": [],
   "source": [
    "import torch\n",
    "torch.cuda.is_available()"
   ]
  },
  {
   "cell_type": "code",
   "execution_count": null,
   "id": "ae1a4bbb-7a1c-41b4-8d80-2ee64e8eb3d0",
   "metadata": {},
   "outputs": [],
   "source": []
  }
 ],
 "metadata": {
  "kernelspec": {
   "display_name": "Python 3 (ipykernel)",
   "language": "python",
   "name": "python3"
  },
  "language_info": {
   "codemirror_mode": {
    "name": "ipython",
    "version": 3
   },
   "file_extension": ".py",
   "mimetype": "text/x-python",
   "name": "python",
   "nbconvert_exporter": "python",
   "pygments_lexer": "ipython3",
   "version": "3.12.3"
  }
 },
 "nbformat": 4,
 "nbformat_minor": 5
}
