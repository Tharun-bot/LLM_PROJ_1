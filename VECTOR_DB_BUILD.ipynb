{
 "cells": [
  {
   "cell_type": "code",
   "execution_count": null,
   "id": "53793768-3b6a-4ffe-8d32-def4bf46ac27",
   "metadata": {},
   "outputs": [],
   "source": [
    "from langchain_community.document_loaders import PyPDFLoader\n",
    "from langchain_text_splitters import RecursiveCharacterTextSplitter\n",
    "from langchain.embeddings import HuggingFaceBgeEmbeddings\n",
    "from langchain_community.vectorstores import FAISS\n",
    "import os \n",
    "import PyPDF2\n",
    "from PyPDF2 import PdfMerger\n",
    "import torch"
   ]
  },
  {
   "cell_type": "code",
   "execution_count": null,
   "id": "f6ffa02f-9bc9-4a26-a7be-8e0fe1e2773b",
   "metadata": {},
   "outputs": [],
   "source": [
    "def load_chunk_persist_pdf():\n",
    "    pdf_folder_path = \"/home/baskar/Downloads/CALIX_PDF_DATA\"\n",
    "    documents = []\n",
    "    for file in os.listdir(pdf_folder_path):\n",
    "        if file.endswith('.pdf'):\n",
    "            pdf_path = os.path.join(pdf_folder_path, file)\n",
    "            loader = PyPDFLoader(pdf_path)\n",
    "            documents.extend(loader.load())\n",
    "    text_splitter = RecursiveCharacterTextSplitter(\n",
    "                                                chunk_size=1000,\n",
    "                                                chunk_overlap=40,\n",
    "                                                length_function=len,\n",
    "                                                is_separator_regex=False,)\n",
    "    chunked_documents = text_splitter.split_documents(documents)\n",
    "    model_name = \"intfloat/e5-base-v2\"\n",
    "    encode_kwargs = {'normalize_embeddings': True} # set True to compute cosine similarity\n",
    "    embeddings = HuggingFaceBgeEmbeddings(\n",
    "                                            model_name=model_name,\n",
    "                                            model_kwargs={'device': 'cpu'},  #getting RuntimeError if used 'device':'cuda' due to compatibility issues\n",
    "                                            encode_kwargs=encode_kwargs\n",
    "                                            )\n",
    "    vector_db = FAISS.from_documents(chunked_documents,embedding=embeddings)\n",
    "    retriever = vector_db.as_retriever(search_kwargs={\"k\": 4})   #retrieving top 4 similar documents  \n",
    "    return retriever\n",
    "main_retriever = load_chunk_persist_pdf()"
   ]
  },
  {
   "cell_type": "code",
   "execution_count": null,
   "id": "b80176a7-edad-4a4d-a049-783cd153f957",
   "metadata": {},
   "outputs": [],
   "source": [
    "def pretty_print_docs(docs):\n",
    "    print(\n",
    "        f\"\\n{'-' * 100}\\n\".join(\n",
    "            [f\"Document {i+1}:\\n\\n\" + d.page_content for i, d in enumerate(docs)]\n",
    "        )\n",
    "    )"
   ]
  },
  {
   "cell_type": "code",
   "execution_count": null,
   "id": "f1508d5e-3828-485d-a6cb-c1c11f8a69bb",
   "metadata": {},
   "outputs": [],
   "source": []
  }
 ],
 "metadata": {
  "kernelspec": {
   "display_name": "Python 3 (ipykernel)",
   "language": "python",
   "name": "python3"
  },
  "language_info": {
   "codemirror_mode": {
    "name": "ipython",
    "version": 3
   },
   "file_extension": ".py",
   "mimetype": "text/x-python",
   "name": "python",
   "nbconvert_exporter": "python",
   "pygments_lexer": "ipython3",
   "version": "3.10.14"
  }
 },
 "nbformat": 4,
 "nbformat_minor": 5
}
