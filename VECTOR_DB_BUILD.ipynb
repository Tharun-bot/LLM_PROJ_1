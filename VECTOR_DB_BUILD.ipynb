{
 "cells": [
  {
   "cell_type": "code",
   "execution_count": null,
   "id": "fa383acb-5736-4cdb-8377-78854a178667",
   "metadata": {},
   "outputs": [],
   "source": [
    "from langchain_community.document_loaders import PyPDFLoader\n",
    "from langchain_text_splitters import RecursiveCharacterTextSplitter\n",
    "from langchain.embeddings import HuggingFaceBgeEmbeddings\n",
    "from langchain_community.vectorstores import FAISS\n",
    "import os \n",
    "import PyPDF2\n",
    "import torch"
   ]
  },
  {
   "cell_type": "code",
   "execution_count": null,
   "id": "fced7aec-d551-42f3-9952-ccbe56367e95",
   "metadata": {},
   "outputs": [],
   "source": [
    "def load_chunk_persist_pdf():\n",
    "    pdf_folder_path = \"/home/baskar/CALIX_LLM/RAG/CALIX_PDF_DATA\"\n",
    "    documents = []\n",
    "    for file in os.listdir(pdf_folder_path):\n",
    "        if file.endswith('.pdf'):\n",
    "            pdf_path = os.path.join(pdf_folder_path, file)\n",
    "            loader = PyPDFLoader(pdf_path)\n",
    "            documents.extend(loader.load())\n",
    "    text_splitter = RecursiveCharacterTextSplitter(\n",
    "                                                chunk_size=1000,\n",
    "                                                chunk_overlap=40,\n",
    "                                                length_function=len,\n",
    "                                                is_separator_regex=False,)\n",
    "    chunked_documents = text_splitter.split_documents(documents)\n",
    "    model_name = \"intfloat/e5-base-v2\"\n",
    "    encode_kwargs = {'normalize_embeddings': True} # set True to compute cosine similarity\n",
    "    embeddings = HuggingFaceBgeEmbeddings(\n",
    "                                            model_name=model_name,\n",
    "                                            model_kwargs={'device': 'cuda'},  #getting RuntimeError if used 'device':'cuda' due to compatibility issues\n",
    "                                            encode_kwargs=encode_kwargs\n",
    "                                            )\n",
    "    vector_db = FAISS.from_documents(chunked_documents,embedding=embeddings)\n",
    "    retriever = vector_db.as_retriever(search_kwargs={\"k\": 4})   #retrieving top 4 similar documents  \n",
    "    return retriever\n",
    "main_retriever = load_chunk_persist_pdf()"
   ]
  },
  {
   "cell_type": "code",
   "execution_count": null,
   "id": "01ad3875-9bf5-4fc7-92a7-f3ac90a94709",
   "metadata": {},
   "outputs": [],
   "source": []
  }
 ],
 "metadata": {
  "kernelspec": {
   "display_name": "Python 3 (ipykernel)",
   "language": "python",
   "name": "python3"
  },
  "language_info": {
   "codemirror_mode": {
    "name": "ipython",
    "version": 3
   },
   "file_extension": ".py",
   "mimetype": "text/x-python",
   "name": "python",
   "nbconvert_exporter": "python",
   "pygments_lexer": "ipython3",
   "version": "3.12.3"
  }
 },
 "nbformat": 4,
 "nbformat_minor": 5
}
