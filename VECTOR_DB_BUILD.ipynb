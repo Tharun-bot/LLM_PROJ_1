{
 "cells": [
  {
   "cell_type": "markdown",
   "id": "cb3002f3-b77e-4e91-96e4-7522fda7b11b",
   "metadata": {},
   "source": [
    "# 1. Retriever - embeddings\n",
    "* The retriever acts like an internal search engine: given the user query, it returns a few relevant snippets from your knowledge base.\n",
    "\n",
    "These snippets will then be fed to the Reader Model to help it generate its answer.\n",
    "\n",
    "So our objective here is, given a user question, to find the most snippets from our knowledge base to answer that question.\n",
    "\n",
    "This is a wide objective, it leaves open some questions. How many snippets should we retrieve? This parameter will be named top_k.\n",
    "\n",
    "How long should these snippets be? This is called the chunk size. There's no one-size-fits-all answers, but here are a few elements:\n",
    "\n",
    "🔀 Your chunk size is allowed to vary from one snippet to the other.\n",
    "Since there will always be some noise in your retrieval, increasing the top_k increases the chance to get relevant elements in your retrieved snippets. 🎯 Shooting more arrows increases your probability to hit your target.\n",
    "Meanwhile, the summed length of your retrieved documents should not be too high: for instance, for most current models 16k tokens will probably drown your Reader model in information due to Lost-in-the-middle phenomenon. 🎯 Give your reader model only the most relevant insights, not a huge pile of books!\n",
    "In this notebook, we use Langchain library since it offers a huge variety of options for vector databases and allows us to keep document metadata throughout the processing.\n",
    "\n",
    "1.1 Split the documents into chunks\n",
    "In this part, we split the documents from our knowledge base into smaller chunks which will be the snippets on which the reader LLM will base its answer.\n",
    "The goal is to prepare a collection of semantically relevant snippets. So their size should be adapted to precise ideas: too small will truncate ideas, too large will dilute them.\n",
    "💡 Many options exist for text splitting: splitting on words, on sentence boundaries, recursive chunking that processes documents in a tree-like way to preserve structure information... To learn more about chunking, I recommend you read this great notebook by Greg Kamradt.\n",
    "\n",
    "Recursive chunking breaks down the text into smaller parts step by step using a given list of separators sorted from the most important to the least important separator. If the first split doesn't give the right size or shape chunks, the method repeats itself on the new chunks using a different separator. "
   ]
  },
  {
   "cell_type": "code",
   "execution_count": null,
   "id": "68f553ac-6d4e-4411-a9a7-499694eaa408",
   "metadata": {},
   "outputs": [],
   "source": [
    "from langchain_community.document_loaders import PyPDFLoader\n",
    "from langchain_text_splitters import RecursiveCharacterTextSplitter\n",
    "from langchain.embeddings import HuggingFaceBgeEmbeddings\n",
    "from langchain_community.vectorstores import FAISS\n",
    "import os \n",
    "import PyPDF2\n",
    "import torch"
   ]
  },
  {
   "cell_type": "markdown",
   "id": "64c11526-8ef2-4a07-b444-47ec3d4dc143",
   "metadata": {},
   "source": [
    "# 2 Building the vector database\n",
    "We want to compute the embeddings for all the chunks of our knowledge base: to learn more on sentence embeddings, we recommend reading this guide.\n",
    "\n",
    "How does retrieval work ?\n",
    "Once the chunks are all embedded, we store them into a vector database. When the user types in a query, it gets embedded by the same model previously used, and a similarity search returns the closest documents from the vector database.\n",
    "\n",
    "The technical challenge is thus, given a query vector, to quickly find the nearest neighbours of this vector in the vector database. To do this, we need to choose two things: a distance, and a search algorithm to find the nearest neighbors quickly within a database of thousands of records.\n",
    "\n",
    "Nearest Neighbor search algorithm\n",
    "There are plentiful choices for the nearest neighbor search algorithm: we go with Facebook's FAISS, since FAISS is performant enough for most use cases, and it is well known thus widely implemented.\n",
    "\n",
    "Distances\n",
    "Regarding distances, you can find a good guide here. In short:\n",
    "\n",
    "Cosine similarity computes similarity between two vectors as the cosinus of their relative angle: it allows us to compare vector directions are regardless of their magnitude. Using it requires to normalize all vectors, to rescale them into unit norm.\n",
    "Dot product takes into account magnitude, with the sometimes undesirable effect that increasing a vector's length will make it more similar to all others.\n",
    "Euclidean distance is the distance between the ends of vectors.\n",
    "You can try this small exercise to check your understanding of these concepts. But once vectors are normalized, the choice of a specific distance does not matter much.\n",
    "\n",
    "Our particular model works well with cosine similarity, so choose this distance, and we set it up both in the Embedding model, and in the distance_strategy argument of our FAISS index. With cosine similarity, we have to normalize our embeddings.\n",
    "\n",
    "The user query's embedding is also shown : we want to find the k document that have the closest meaning, thus we pick the k closest vectors."
   ]
  },
  {
   "cell_type": "code",
   "execution_count": null,
   "id": "fced7aec-d551-42f3-9952-ccbe56367e95",
   "metadata": {},
   "outputs": [],
   "source": [
    "def load_chunk_persist_pdf():\n",
    "    pdf_folder_path = \"/home/baskar/CALIX_LLM/RAG/PHYSICS_DATSET\"\n",
    "    documents = []\n",
    "    for file in os.listdir(pdf_folder_path):\n",
    "        if file.endswith('.pdf'):\n",
    "            pdf_path = os.path.join(pdf_folder_path, file)\n",
    "            loader = PyPDFLoader(pdf_path)\n",
    "            documents.extend(loader.load())\n",
    "    text_splitter = RecursiveCharacterTextSplitter(\n",
    "                                                chunk_size=1000,\n",
    "                                                chunk_overlap=40,\n",
    "                                                length_function=len,\n",
    "                                                is_separator_regex=False,)\n",
    "    chunked_documents = text_splitter.split_documents(documents)\n",
    "    model_name = \"intfloat/e5-base-v2\"\n",
    "    encode_kwargs = {'normalize_embeddings': True} # set True to compute cosine similarity\n",
    "    embeddings = HuggingFaceBgeEmbeddings(\n",
    "                                            model_name=model_name,\n",
    "                                            model_kwargs={'device': 'cuda'},  #getting RuntimeError if used 'device':'cuda' due to compatibility issues\n",
    "                                            encode_kwargs=encode_kwargs\n",
    "                                            )\n",
    "    vector_db = FAISS.from_documents(chunked_documents,embedding=embeddings)\n",
    "    vector_db.save_local(\"home/baskar/CALIX_LLM/RAG/VECTOR_DB\")\n",
    "    new_db = FAISS.load_local(\"home/baskar/CALIX_LLM/RAG/VECTOR_DB\", embeddings=embeddings, allow_dangerous_deserialization=True)\n",
    "    retriever = new_db.as_retriever(search_kwargs={\"k\": 4})   #retrieving top 4 similar documents  \n",
    "    return retriever\n",
    "main_retriever = load_chunk_persist_pdf()"
   ]
  },
  {
   "cell_type": "code",
   "execution_count": null,
   "id": "01ad3875-9bf5-4fc7-92a7-f3ac90a94709",
   "metadata": {},
   "outputs": [],
   "source": []
  }
 ],
 "metadata": {
  "kernelspec": {
   "display_name": "Python 3 (ipykernel)",
   "language": "python",
   "name": "python3"
  },
  "language_info": {
   "codemirror_mode": {
    "name": "ipython",
    "version": 3
   },
   "file_extension": ".py",
   "mimetype": "text/x-python",
   "name": "python",
   "nbconvert_exporter": "python",
   "pygments_lexer": "ipython3",
   "version": "3.12.3"
  }
 },
 "nbformat": 4,
 "nbformat_minor": 5
}
